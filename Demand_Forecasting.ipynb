{
 "cells": [
  {
   "cell_type": "markdown",
   "id": "731908f9-7237-42e8-8df4-8cd1da2b51d4",
   "metadata": {},
   "source": [
    "# Setting & import"
   ]
  },
  {
   "cell_type": "code",
   "execution_count": 1,
   "id": "4304a40f-9ea6-42f6-a1e1-29efa9f69a23",
   "metadata": {},
   "outputs": [],
   "source": [
    "import pandas as pd\n",
    "import numpy as np\n",
    "import matplotlib.pyplot as plt\n",
    "from matplotlib import rcParams\n",
    "import seaborn as sns\n",
    "from tqdm.auto import tqdm\n",
    "from statsmodels.tsa.seasonal import STL\n",
    "from sklearn.preprocessing import LabelEncoder\n",
    "import random\n",
    "import os\n",
    "import pickle\n",
    "from sklearn.cluster import KMeans\n",
    "from yellowbrick.cluster import KElbowVisualizer\n",
    "from sklearn.metrics import silhouette_score\n",
    "\n",
    "from sklearn.preprocessing import OneHotEncoder\n",
    "from sklearn.preprocessing import MinMaxScaler\n",
    "from sklearn.metrics import mean_squared_error\n",
    "from sklearn.metrics import mean_absolute_error\n",
    "from sklearn.metrics import mean_absolute_percentage_error\n",
    "from sklearn.metrics import r2_score\n",
    "\n",
    "import torch\n",
    "import torch.nn as nn\n",
    "import torch.optim as optim\n",
    "import torch.nn.functional as F\n",
    "from torch.utils.data import Dataset, DataLoader, random_split\n",
    "\n",
    "plt.rc('font',family='Malgun Gothic')\n",
    "rcParams['axes.unicode_minus'] =False"
   ]
  },
  {
   "cell_type": "code",
   "execution_count": 2,
   "id": "4ff53d9f-21f6-4ec5-9522-d6237987f413",
   "metadata": {},
   "outputs": [],
   "source": [
    "device = torch.device('cuda') if torch.cuda.is_available() else torch.device('cpu')"
   ]
  },
  {
   "cell_type": "code",
   "execution_count": 3,
   "id": "9fd6ff01-e95f-48cc-852b-07d1095dd276",
   "metadata": {},
   "outputs": [],
   "source": [
    "CFG = {\n",
    "    'TRAIN_WINDOW_SIZE':90, # 90일치로 학습\n",
    "    'PREDICT_SIZE':30, # 30일치 예측\n",
    "    'EPOCHS':2,\n",
    "    'LEARNING_RATE':1.75e-3,\n",
    "    'BATCH_SIZE':32,\n",
    "    'SEED':7\n",
    "}\n",
    "def seed_everything(seed):\n",
    "    random.seed(seed)\n",
    "    os.environ['PYTHONHASHSEED'] = str(seed)\n",
    "    np.random.seed(seed)\n",
    "    torch.manual_seed(seed)\n",
    "    torch.cuda.manual_seed(seed)\n",
    "    torch.backends.cudnn.deterministic = True\n",
    "    torch.backends.cudnn.benchmark = True\n",
    "\n",
    "seed_everything(CFG['SEED']) # Seed 고정"
   ]
  },
  {
   "cell_type": "markdown",
   "id": "42efdc1f-36df-4c71-b5e8-075a4d12416d",
   "metadata": {},
   "source": [
    "# Data Load"
   ]
  },
  {
   "cell_type": "markdown",
   "id": "1b5281bc-1560-4f16-a03f-553fa777531c",
   "metadata": {
    "jp-MarkdownHeadingCollapsed": true
   },
   "source": [
    "## 관광지 입장 데이터"
   ]
  },
  {
   "cell_type": "code",
   "execution_count": 173,
   "id": "578d7015-fd0b-4771-8bc1-4d4f804dbda1",
   "metadata": {},
   "outputs": [],
   "source": [
    "enter = pd.read_csv('enter_merge.csv')"
   ]
  },
  {
   "cell_type": "code",
   "execution_count": 174,
   "id": "77accffc-1169-4a86-b69a-d81ebcfd5878",
   "metadata": {},
   "outputs": [],
   "source": [
    "category = pd.read_csv('2023해커톤용데이터/4. 빅데이터센터구축데이터(필수활용)/1. 제주관광공사 데이터(필수활용)/001. 가공데이터/JT_TRRSRT_ENTRN_LIST_관광지 입장 데이터/JT_TRRSRT_ENTRN_LIST_202212 - groupby_카테고리 수정.csv',encoding='cp949')"
   ]
  },
  {
   "cell_type": "code",
   "execution_count": 175,
   "id": "e8cffd8d-0ea4-4375-8bf5-0a4b37d8b4c5",
   "metadata": {
    "scrolled": true
   },
   "outputs": [],
   "source": [
    "ct_dic = {}\n",
    "for k,v in zip(category['TRRSRT_NM'], category['CL_NM']):\n",
    "  ct_dic[k] = v"
   ]
  },
  {
   "cell_type": "code",
   "execution_count": 176,
   "id": "4ebeaf61-ef92-4c86-b312-1306d92a1435",
   "metadata": {},
   "outputs": [],
   "source": [
    "enter = enter.drop(['TEL_NO','SETLE_PRICE'],axis=1)"
   ]
  },
  {
   "cell_type": "code",
   "execution_count": 177,
   "id": "04d73538-1f12-4ff6-a231-0b883beebf17",
   "metadata": {
    "scrolled": true
   },
   "outputs": [],
   "source": [
    "enter = enter.groupby(['CL_NM','TRRSRT_NM','ADDR','ENTRN_DE']).sum()"
   ]
  },
  {
   "cell_type": "code",
   "execution_count": 178,
   "id": "0bb8fbe8-47c8-4cc6-8080-7b0654c04867",
   "metadata": {
    "scrolled": true
   },
   "outputs": [],
   "source": [
    "enter = enter.reset_index()"
   ]
  },
  {
   "cell_type": "code",
   "execution_count": 179,
   "id": "d5b5854f-95cd-441b-8f22-15826f65e1bb",
   "metadata": {
    "scrolled": true
   },
   "outputs": [],
   "source": [
    "for k,v in ct_dic.items():\n",
    "  enter.loc[enter[enter['TRRSRT_NM']==k].index,'CL_NM'] = v"
   ]
  },
  {
   "cell_type": "code",
   "execution_count": 180,
   "id": "4ea2d6f0-49d9-4e7f-892c-6935abd0ba90",
   "metadata": {
    "scrolled": true
   },
   "outputs": [],
   "source": [
    "enter = enter.groupby(['CL_NM','TRRSRT_NM','ADDR','ENTRN_DE']).sum().unstack(level=3)"
   ]
  },
  {
   "cell_type": "code",
   "execution_count": 181,
   "id": "52408584-be96-4117-84d3-b6b481414808",
   "metadata": {
    "scrolled": true
   },
   "outputs": [],
   "source": [
    "enter1 = enter.reset_index()"
   ]
  },
  {
   "cell_type": "code",
   "execution_count": 185,
   "id": "51c072a8-fd7b-401b-bb20-4b7297c7e685",
   "metadata": {},
   "outputs": [],
   "source": [
    "enter2 = enter1.droplevel(level=0,axis=1)"
   ]
  },
  {
   "cell_type": "code",
   "execution_count": 193,
   "id": "73e78023-ac6e-46ed-aae3-881839a04e3c",
   "metadata": {},
   "outputs": [],
   "source": [
    "enter_col = list(enter2.columns)"
   ]
  },
  {
   "cell_type": "code",
   "execution_count": 195,
   "id": "cab19de2-a0d1-4444-972b-076ae45986e9",
   "metadata": {},
   "outputs": [],
   "source": [
    "enter_col[:3] = ['CL_NM','TRRSRT_NM','ADDR']"
   ]
  },
  {
   "cell_type": "code",
   "execution_count": 196,
   "id": "fd1c34e4-084d-4303-8ddf-f8700c784e9f",
   "metadata": {},
   "outputs": [],
   "source": [
    "enter2.columns = enter_col"
   ]
  },
  {
   "cell_type": "code",
   "execution_count": 72,
   "id": "4a461ac9-433b-41cb-9c8c-1f59969612cb",
   "metadata": {},
   "outputs": [
    {
     "data": {
      "application/vnd.jupyter.widget-view+json": {
       "model_id": "5e81ee8d4ad5422cb26f47efd83ef8b6",
       "version_major": 2,
       "version_minor": 0
      },
      "text/plain": [
       "  0%|          | 0/162 [00:00<?, ?it/s]"
      ]
     },
     "metadata": {},
     "output_type": "display_data"
    }
   ],
   "source": [
    "for row in tqdm(range(len(enter2))):\n",
    "  enter2.iloc[row,3:] = enter2.iloc[row,3:].fillna(int(enter2.iloc[row,3:].mean()))"
   ]
  },
  {
   "cell_type": "code",
   "execution_count": 203,
   "id": "9e3e32b7-a13d-420f-b502-e2e473648c53",
   "metadata": {},
   "outputs": [],
   "source": [
    "enter2.to_csv('enter_fin.csv',index=False)"
   ]
  },
  {
   "cell_type": "markdown",
   "id": "28c6b598-877f-4e9b-b370-48e2f6ab5e76",
   "metadata": {
    "jp-MarkdownHeadingCollapsed": true
   },
   "source": [
    "## 공영관광지 입장 데이터"
   ]
  },
  {
   "cell_type": "code",
   "execution_count": 207,
   "id": "88ba7c5d-967a-44a7-9327-dcd8f8646b62",
   "metadata": {},
   "outputs": [],
   "source": [
    "public = pd.DataFrame()\n",
    "month_list = ['01','02','03','04','05','06','07','08','09','10','11','12']\n",
    "for i in month_list:\n",
    "  public = pd.concat([public,pd.read_csv(f'2023해커톤용데이터/공영관광지 입장 데이터/JT_DAY_PUBLIC_TRRSRT_ENTRN_LIST_2022{i}.csv')],axis=0)"
   ]
  },
  {
   "cell_type": "code",
   "execution_count": 224,
   "id": "44e80a71-8e8d-449b-8580-4a44a2560ee1",
   "metadata": {},
   "outputs": [],
   "source": [
    "cate_dict = {'감귤박물관':'문화관광','서귀포시립기당미술관':'문화관광','서귀포천문과학문화관':'문화관광','서복전시관':'문화관광',\n",
    "             '소암기념관':'문화관광','이중섭미술관':'문화관광','제주돌문화공원':'문화관광','대포주상절리':'자연','만장굴':'자연',\n",
    "             '모구리야영장':'휴식_힐링','비자림':'자연','산방산암벽식물지대':'자연','서귀포치유의숲':'휴식_힐링','성산일출봉':'자연',\n",
    "             '용머리해안':'자연','정방폭포':'자연','천제연폭포':'자연','천지연폭포':'자연','기당미술관':'문화관광'}"
   ]
  },
  {
   "cell_type": "code",
   "execution_count": 226,
   "id": "a80918d7-cb97-4a04-96c0-efa2d97f937b",
   "metadata": {},
   "outputs": [],
   "source": [
    "public = public.drop(['TEL_NO','SETLE_PRICE'],axis=1)"
   ]
  },
  {
   "cell_type": "code",
   "execution_count": 228,
   "id": "ed86ace0-4239-4dd8-8609-1b9ce466fb30",
   "metadata": {},
   "outputs": [],
   "source": [
    "public = public.groupby(['CL_NM','TRRSRT_NM','ADDR','ENTRN_DE']).sum()"
   ]
  },
  {
   "cell_type": "code",
   "execution_count": 229,
   "id": "40f35522-7419-44cb-8d5d-e6fe6a7f3158",
   "metadata": {},
   "outputs": [],
   "source": [
    "public = public.reset_index()"
   ]
  },
  {
   "cell_type": "code",
   "execution_count": 231,
   "id": "31bdd914-3895-47c7-b43e-89be0be2f52f",
   "metadata": {},
   "outputs": [],
   "source": [
    "for k,v in cate_dict.items():\n",
    "  public.loc[public[public['TRRSRT_NM']==k].index,'CL_NM'] = v"
   ]
  },
  {
   "cell_type": "code",
   "execution_count": 232,
   "id": "d17e408f-4deb-47ec-a428-d4104d302f3d",
   "metadata": {},
   "outputs": [],
   "source": [
    "public = public.groupby(['CL_NM','TRRSRT_NM','ADDR','ENTRN_DE']).sum().unstack(level=3)"
   ]
  },
  {
   "cell_type": "code",
   "execution_count": 233,
   "id": "eb55414f-3f03-4e98-8acc-6516a9252f70",
   "metadata": {},
   "outputs": [],
   "source": [
    "public1 = public.reset_index()"
   ]
  },
  {
   "cell_type": "code",
   "execution_count": 235,
   "id": "a4b39515-52f9-4d95-a183-142c60d2a091",
   "metadata": {
    "scrolled": true
   },
   "outputs": [],
   "source": [
    "public2 = public1.droplevel(level=0,axis=1)"
   ]
  },
  {
   "cell_type": "code",
   "execution_count": 236,
   "id": "f6b6625f-2375-43c4-83c8-c540219b4c38",
   "metadata": {},
   "outputs": [],
   "source": [
    "public_col = list(public2.columns)"
   ]
  },
  {
   "cell_type": "code",
   "execution_count": 237,
   "id": "dc9924be-2018-432f-832f-719fc85679b4",
   "metadata": {},
   "outputs": [],
   "source": [
    "public_col[:3] = ['CL_NM','TRRSRT_NM','ADDR']"
   ]
  },
  {
   "cell_type": "code",
   "execution_count": 238,
   "id": "6ccf6cda-1ff0-4fa5-8ff4-9d3142bf7da2",
   "metadata": {},
   "outputs": [],
   "source": [
    "public2.columns = public_col"
   ]
  },
  {
   "cell_type": "code",
   "execution_count": 118,
   "id": "5edd5dbb-12d8-43bc-af90-12b7c6261cc2",
   "metadata": {
    "scrolled": true
   },
   "outputs": [
    {
     "data": {
      "application/vnd.jupyter.widget-view+json": {
       "model_id": "9451238b760642a1ba4b70ae7e31da35",
       "version_major": 2,
       "version_minor": 0
      },
      "text/plain": [
       "  0%|          | 0/20 [00:00<?, ?it/s]"
      ]
     },
     "metadata": {},
     "output_type": "display_data"
    }
   ],
   "source": [
    "for row in tqdm(range(len(public2))):\n",
    "  public2.iloc[row,3:] = public2.iloc[row,3:].fillna(int(public2.iloc[row,3:].mean()))"
   ]
  },
  {
   "cell_type": "code",
   "execution_count": 239,
   "id": "0154d39c-7d30-4bf5-bdaf-caee899a10ef",
   "metadata": {},
   "outputs": [],
   "source": [
    "public2.to_csv('public_fin.csv',index=False)"
   ]
  },
  {
   "cell_type": "markdown",
   "id": "ba06769c-5420-4dbd-947a-3b44ff1e7338",
   "metadata": {
    "jp-MarkdownHeadingCollapsed": true
   },
   "source": [
    "# Preprocessing"
   ]
  },
  {
   "cell_type": "markdown",
   "id": "5a39d3ea-fe9c-4f29-9861-ed1a08464a3a",
   "metadata": {},
   "source": [
    "## Data Load"
   ]
  },
  {
   "cell_type": "markdown",
   "id": "93dff588-24e1-4e0c-afaf-8db89512588f",
   "metadata": {},
   "source": [
    "### Data concatenate"
   ]
  },
  {
   "cell_type": "code",
   "execution_count": 43,
   "id": "16fe2c32-4e15-4601-99f3-145d77a3e366",
   "metadata": {
    "scrolled": true
   },
   "outputs": [],
   "source": [
    "data = pd.read_csv('enter_fin.csv')"
   ]
  },
  {
   "cell_type": "code",
   "execution_count": 44,
   "id": "0c81cd1a-4543-4acc-bd71-9ad32fda9a82",
   "metadata": {},
   "outputs": [],
   "source": [
    "public = pd.read_csv('public_fin.csv')"
   ]
  },
  {
   "cell_type": "code",
   "execution_count": 45,
   "id": "5f8f7010-65da-4f01-89be-83eca60d7d89",
   "metadata": {
    "scrolled": true
   },
   "outputs": [
    {
     "name": "stdout",
     "output_type": "stream",
     "text": [
      "제주돌문화공원\n",
      "성산일출봉\n"
     ]
    }
   ],
   "source": [
    "for i in public['TRRSRT_NM'].unique():\n",
    "  if i in data['TRRSRT_NM'].unique():\n",
    "    print(i)"
   ]
  },
  {
   "cell_type": "code",
   "execution_count": 46,
   "id": "f911842d-6560-43b5-9a68-c56c7dc6210c",
   "metadata": {
    "scrolled": true
   },
   "outputs": [],
   "source": [
    "# 중복 row 삭제 -> 제주돌문화공원 및 성산일출봉은 공영관광지이므로 민영관광지 dataset에서 삭제\n",
    "data = data.drop(data[(data['TRRSRT_NM']=='제주돌문화공원')|(data['TRRSRT_NM']=='성산일출봉')].index,axis=0)"
   ]
  },
  {
   "cell_type": "code",
   "execution_count": 47,
   "id": "41e9874c-581a-430a-a283-6a73cc71b362",
   "metadata": {},
   "outputs": [],
   "source": [
    "data_fin = pd.concat([data,public],axis=0)"
   ]
  },
  {
   "cell_type": "code",
   "execution_count": 48,
   "id": "df2320b2-3f4f-46c2-a97f-1f2a5a78c5ed",
   "metadata": {
    "scrolled": true
   },
   "outputs": [],
   "source": [
    "data_fin.to_csv('data_fin.csv',index=False)"
   ]
  },
  {
   "cell_type": "markdown",
   "id": "76e6e3de-a039-4b9f-a779-174b1d96c0dd",
   "metadata": {},
   "source": [
    "### data load 시 아래 행만 수행"
   ]
  },
  {
   "cell_type": "code",
   "execution_count": 49,
   "id": "08218308-aceb-415c-8b4e-15457cfa6f76",
   "metadata": {},
   "outputs": [],
   "source": [
    "data = pd.read_csv('data_fin.csv')"
   ]
  },
  {
   "cell_type": "markdown",
   "id": "77d9e9c0-8d79-418e-95c4-e2cca5c370de",
   "metadata": {},
   "source": [
    "## Data split"
   ]
  },
  {
   "cell_type": "code",
   "execution_count": 26,
   "id": "0b910bed-639a-4963-9974-392628337642",
   "metadata": {},
   "outputs": [
    {
     "ename": "NameError",
     "evalue": "name 'data' is not defined",
     "output_type": "error",
     "traceback": [
      "\u001b[1;31m---------------------------------------------------------------------------\u001b[0m",
      "\u001b[1;31mNameError\u001b[0m                                 Traceback (most recent call last)",
      "Cell \u001b[1;32mIn[26], line 1\u001b[0m\n\u001b[1;32m----> 1\u001b[0m train_data \u001b[38;5;241m=\u001b[39m data\u001b[38;5;241m.\u001b[39miloc[:,:\u001b[38;5;241m-\u001b[39mCFG[\u001b[38;5;124m'\u001b[39m\u001b[38;5;124mPREDICT_SIZE\u001b[39m\u001b[38;5;124m'\u001b[39m]]\n\u001b[0;32m      2\u001b[0m test_data \u001b[38;5;241m=\u001b[39m pd\u001b[38;5;241m.\u001b[39mconcat([data\u001b[38;5;241m.\u001b[39miloc[:,:\u001b[38;5;241m3\u001b[39m],data\u001b[38;5;241m.\u001b[39miloc[:,\u001b[38;5;241m-\u001b[39mCFG[\u001b[38;5;124m'\u001b[39m\u001b[38;5;124mPREDICT_SIZE\u001b[39m\u001b[38;5;124m'\u001b[39m]:]],axis\u001b[38;5;241m=\u001b[39m\u001b[38;5;241m1\u001b[39m)\n",
      "\u001b[1;31mNameError\u001b[0m: name 'data' is not defined"
     ]
    }
   ],
   "source": [
    "train_data = data.iloc[:,:-CFG['PREDICT_SIZE']]\n",
    "test_data = pd.concat([data.iloc[:,:3],data.iloc[:,-CFG['PREDICT_SIZE']:]],axis=1)"
   ]
  },
  {
   "cell_type": "code",
   "execution_count": 51,
   "id": "be39af22-0d1c-40d6-b949-7b4ada4cf3da",
   "metadata": {},
   "outputs": [],
   "source": [
    "test_data.to_csv('Demand_Forecasting/test_data.csv',index=False)"
   ]
  },
  {
   "cell_type": "code",
   "execution_count": 52,
   "id": "2d944cca-b619-4cf4-8141-e13f209c2cdb",
   "metadata": {},
   "outputs": [],
   "source": [
    "test_data = pd.read_csv('Demand_Forecasting/test_data.csv')"
   ]
  },
  {
   "cell_type": "markdown",
   "id": "b5048fb8-31ae-4cee-ab13-d025538952ef",
   "metadata": {},
   "source": [
    "## 잔차 계산"
   ]
  },
  {
   "cell_type": "code",
   "execution_count": 53,
   "id": "506d5337-09fe-4fb9-b2c5-f5f694b35842",
   "metadata": {},
   "outputs": [
    {
     "data": {
      "application/vnd.jupyter.widget-view+json": {
       "model_id": "b09815a8a6494512b0230ec1ed83fd44",
       "version_major": 2,
       "version_minor": 0
      },
      "text/plain": [
       "  0%|          | 0/180 [00:00<?, ?it/s]"
      ]
     },
     "metadata": {},
     "output_type": "display_data"
    }
   ],
   "source": [
    "# 시계열 분해 후 잔차 계산\n",
    "\n",
    "def residual(data, category_column_size):\n",
    "  data = data.iloc[:,category_column_size:].T.values\n",
    "  residual = []\n",
    "  for idx in tqdm(range(len(data.T))):\n",
    "    stl = STL(data[: ,idx], period=12, robust=True).fit()\n",
    "    residual.append(stl.resid)\n",
    "  return np.array(residual)\n",
    "\n",
    "residual_data = residual(train_data, 3)"
   ]
  },
  {
   "cell_type": "code",
   "execution_count": 54,
   "id": "c74b7696-e38f-4d38-b112-a0b75ff3ac6c",
   "metadata": {},
   "outputs": [],
   "source": [
    "pd.DataFrame(residual_data).to_csv('Demand_Forecasting/residual_data.csv', index=False)"
   ]
  },
  {
   "cell_type": "code",
   "execution_count": 55,
   "id": "7cdbc0fb-25a5-4b9e-8383-7b971d384a6f",
   "metadata": {},
   "outputs": [],
   "source": [
    "residual_data = pd.read_csv('Demand_Forecasting/residual_data.csv').values"
   ]
  },
  {
   "cell_type": "markdown",
   "id": "6a24262d-a4ec-4293-9214-f97e442ccc6d",
   "metadata": {
    "scrolled": true
   },
   "source": [
    "## 단위 가격 계산"
   ]
  },
  {
   "cell_type": "code",
   "execution_count": 56,
   "id": "0e3eebff-47fe-4ffc-921b-39832765282b",
   "metadata": {},
   "outputs": [],
   "source": [
    "enter = pd.read_csv('enter_merge.csv')"
   ]
  },
  {
   "cell_type": "code",
   "execution_count": 57,
   "id": "251e1ab9-4e11-4d84-b965-ea4fd7c600ee",
   "metadata": {},
   "outputs": [],
   "source": [
    "enter = enter[(enter['TRRSRT_NM']!='성산일출봉')&(enter['TRRSRT_NM']!='제주돌문화공원')]"
   ]
  },
  {
   "cell_type": "code",
   "execution_count": 58,
   "id": "348e8d8c-44a4-4603-803e-9d5bebc15bc2",
   "metadata": {},
   "outputs": [],
   "source": [
    "public = pd.DataFrame()\n",
    "month_list = ['01','02','03','04','05','06','07','08','09','10','11','12']\n",
    "for i in month_list:\n",
    "  public = pd.concat([public,pd.read_csv(f'2023해커톤용데이터/공영관광지 입장 데이터/JT_DAY_PUBLIC_TRRSRT_ENTRN_LIST_2022{i}.csv')],axis=0)"
   ]
  },
  {
   "cell_type": "code",
   "execution_count": 59,
   "id": "4ed2b34a-9e3b-4fba-8917-a3835efe01d5",
   "metadata": {},
   "outputs": [],
   "source": [
    "enter_public = pd.concat([enter,public],axis=0)"
   ]
  },
  {
   "cell_type": "code",
   "execution_count": 60,
   "id": "dcb70ae7-7343-444a-9ac9-8efca829a580",
   "metadata": {
    "scrolled": true
   },
   "outputs": [],
   "source": [
    "enter_public = enter_public.drop(['CL_NM','ADDR','TEL_NO','ENTRN_DE'],axis=1)"
   ]
  },
  {
   "cell_type": "code",
   "execution_count": 61,
   "id": "2550f9e6-80c0-44c2-8b47-b6841ff40655",
   "metadata": {
    "scrolled": true
   },
   "outputs": [],
   "source": [
    "enter_public = enter_public.groupby('TRRSRT_NM').sum().reset_index()"
   ]
  },
  {
   "cell_type": "code",
   "execution_count": 62,
   "id": "4fcd31d2-f74d-49bf-822e-6fc064c86600",
   "metadata": {
    "scrolled": true
   },
   "outputs": [],
   "source": [
    "enter_public['unit_price'] = (enter_public['SETLE_PRICE']/enter_public['TOT_ENTRN_NMPR_CO']).astype('int')"
   ]
  },
  {
   "cell_type": "code",
   "execution_count": 63,
   "id": "d4c94fb3-aeba-4ef9-8aad-4f361a496a1d",
   "metadata": {},
   "outputs": [],
   "source": [
    "enter_public = enter_public.drop(['TOT_ENTRN_NMPR_CO','SETLE_PRICE'],axis=1)"
   ]
  },
  {
   "cell_type": "code",
   "execution_count": 64,
   "id": "51ed6fe4-6c5a-4a71-a821-92a0d5fb4e59",
   "metadata": {},
   "outputs": [],
   "source": [
    "price_list=list()\n",
    "for i in train_data.TRRSRT_NM:\n",
    "  price_list.append(enter_public[enter_public['TRRSRT_NM']==i]['unit_price'].values[0])"
   ]
  },
  {
   "cell_type": "code",
   "execution_count": 65,
   "id": "506b9c91-088b-45d9-97ba-02cc64bd511b",
   "metadata": {},
   "outputs": [],
   "source": [
    "train_data.insert(3,'UNIT_PRICE',price_list)"
   ]
  },
  {
   "cell_type": "markdown",
   "id": "5361bfb5-1746-46df-bcfa-cc4a8103cd67",
   "metadata": {},
   "source": [
    "## Label encoding"
   ]
  },
  {
   "cell_type": "code",
   "execution_count": 66,
   "id": "f96e4ec7-dc24-4ed5-854e-c1ac856ff129",
   "metadata": {},
   "outputs": [],
   "source": [
    "lbe = LabelEncoder()\n",
    "train_data['CL_NM'] = lbe.fit_transform(train_data['CL_NM'])"
   ]
  },
  {
   "cell_type": "code",
   "execution_count": 67,
   "id": "ca51df7c-2752-44d9-a2db-bd294b319c4f",
   "metadata": {},
   "outputs": [],
   "source": [
    "train_data['ADDR'] = lbe.fit_transform(train_data['ADDR'])"
   ]
  },
  {
   "cell_type": "markdown",
   "id": "2d707d4c-5990-4220-a2c5-1e146f25ee1f",
   "metadata": {},
   "source": [
    "## Scaling"
   ]
  },
  {
   "cell_type": "code",
   "execution_count": 69,
   "id": "3eec4122-b6b8-404a-8c88-93498a8779f7",
   "metadata": {
    "scrolled": true
   },
   "outputs": [
    {
     "data": {
      "text/html": [
       "<style>#sk-container-id-1 {color: black;}#sk-container-id-1 pre{padding: 0;}#sk-container-id-1 div.sk-toggleable {background-color: white;}#sk-container-id-1 label.sk-toggleable__label {cursor: pointer;display: block;width: 100%;margin-bottom: 0;padding: 0.3em;box-sizing: border-box;text-align: center;}#sk-container-id-1 label.sk-toggleable__label-arrow:before {content: \"▸\";float: left;margin-right: 0.25em;color: #696969;}#sk-container-id-1 label.sk-toggleable__label-arrow:hover:before {color: black;}#sk-container-id-1 div.sk-estimator:hover label.sk-toggleable__label-arrow:before {color: black;}#sk-container-id-1 div.sk-toggleable__content {max-height: 0;max-width: 0;overflow: hidden;text-align: left;background-color: #f0f8ff;}#sk-container-id-1 div.sk-toggleable__content pre {margin: 0.2em;color: black;border-radius: 0.25em;background-color: #f0f8ff;}#sk-container-id-1 input.sk-toggleable__control:checked~div.sk-toggleable__content {max-height: 200px;max-width: 100%;overflow: auto;}#sk-container-id-1 input.sk-toggleable__control:checked~label.sk-toggleable__label-arrow:before {content: \"▾\";}#sk-container-id-1 div.sk-estimator input.sk-toggleable__control:checked~label.sk-toggleable__label {background-color: #d4ebff;}#sk-container-id-1 div.sk-label input.sk-toggleable__control:checked~label.sk-toggleable__label {background-color: #d4ebff;}#sk-container-id-1 input.sk-hidden--visually {border: 0;clip: rect(1px 1px 1px 1px);clip: rect(1px, 1px, 1px, 1px);height: 1px;margin: -1px;overflow: hidden;padding: 0;position: absolute;width: 1px;}#sk-container-id-1 div.sk-estimator {font-family: monospace;background-color: #f0f8ff;border: 1px dotted black;border-radius: 0.25em;box-sizing: border-box;margin-bottom: 0.5em;}#sk-container-id-1 div.sk-estimator:hover {background-color: #d4ebff;}#sk-container-id-1 div.sk-parallel-item::after {content: \"\";width: 100%;border-bottom: 1px solid gray;flex-grow: 1;}#sk-container-id-1 div.sk-label:hover label.sk-toggleable__label {background-color: #d4ebff;}#sk-container-id-1 div.sk-serial::before {content: \"\";position: absolute;border-left: 1px solid gray;box-sizing: border-box;top: 0;bottom: 0;left: 50%;z-index: 0;}#sk-container-id-1 div.sk-serial {display: flex;flex-direction: column;align-items: center;background-color: white;padding-right: 0.2em;padding-left: 0.2em;position: relative;}#sk-container-id-1 div.sk-item {position: relative;z-index: 1;}#sk-container-id-1 div.sk-parallel {display: flex;align-items: stretch;justify-content: center;background-color: white;position: relative;}#sk-container-id-1 div.sk-item::before, #sk-container-id-1 div.sk-parallel-item::before {content: \"\";position: absolute;border-left: 1px solid gray;box-sizing: border-box;top: 0;bottom: 0;left: 50%;z-index: -1;}#sk-container-id-1 div.sk-parallel-item {display: flex;flex-direction: column;z-index: 1;position: relative;background-color: white;}#sk-container-id-1 div.sk-parallel-item:first-child::after {align-self: flex-end;width: 50%;}#sk-container-id-1 div.sk-parallel-item:last-child::after {align-self: flex-start;width: 50%;}#sk-container-id-1 div.sk-parallel-item:only-child::after {width: 0;}#sk-container-id-1 div.sk-dashed-wrapped {border: 1px dashed gray;margin: 0 0.4em 0.5em 0.4em;box-sizing: border-box;padding-bottom: 0.4em;background-color: white;}#sk-container-id-1 div.sk-label label {font-family: monospace;font-weight: bold;display: inline-block;line-height: 1.2em;}#sk-container-id-1 div.sk-label-container {text-align: center;}#sk-container-id-1 div.sk-container {/* jupyter's `normalize.less` sets `[hidden] { display: none; }` but bootstrap.min.css set `[hidden] { display: none !important; }` so we also need the `!important` here to be able to override the default hidden behavior on the sphinx rendered scikit-learn.org. See: https://github.com/scikit-learn/scikit-learn/issues/21755 */display: inline-block !important;position: relative;}#sk-container-id-1 div.sk-text-repr-fallback {display: none;}</style><div id=\"sk-container-id-1\" class=\"sk-top-container\"><div class=\"sk-text-repr-fallback\"><pre>MinMaxScaler()</pre><b>In a Jupyter environment, please rerun this cell to show the HTML representation or trust the notebook. <br />On GitHub, the HTML representation is unable to render, please try loading this page with nbviewer.org.</b></div><div class=\"sk-container\" hidden><div class=\"sk-item\"><div class=\"sk-estimator sk-toggleable\"><input class=\"sk-toggleable__control sk-hidden--visually\" id=\"sk-estimator-id-1\" type=\"checkbox\" checked><label for=\"sk-estimator-id-1\" class=\"sk-toggleable__label sk-toggleable__label-arrow\">MinMaxScaler</label><div class=\"sk-toggleable__content\"><pre>MinMaxScaler()</pre></div></div></div></div></div>"
      ],
      "text/plain": [
       "MinMaxScaler()"
      ]
     },
     "execution_count": 69,
     "metadata": {},
     "output_type": "execute_result"
    }
   ],
   "source": [
    "mms = MinMaxScaler()\n",
    "mms.fit(np.array(train_data['UNIT_PRICE']).reshape(-1,1))"
   ]
  },
  {
   "cell_type": "code",
   "execution_count": 70,
   "id": "9224212a-c62c-4818-9a41-1e383d6c75f1",
   "metadata": {
    "scrolled": true
   },
   "outputs": [],
   "source": [
    "train_data['UNIT_PRICE'] = mms.transform(np.array(train_data['UNIT_PRICE']).reshape(-1,1))"
   ]
  },
  {
   "cell_type": "code",
   "execution_count": 71,
   "id": "5d2e2a77-bcd6-4dad-86b9-7b845aef19c5",
   "metadata": {},
   "outputs": [
    {
     "data": {
      "application/vnd.jupyter.widget-view+json": {
       "model_id": "3a72da4cbbde4179b3ff98daeea2efcc",
       "version_major": 2,
       "version_minor": 0
      },
      "text/plain": [
       "  0%|          | 0/180 [00:00<?, ?it/s]"
      ]
     },
     "metadata": {},
     "output_type": "display_data"
    }
   ],
   "source": [
    "# Data Scaling\n",
    "scale_max_dict = {}\n",
    "scale_min_dict = {}\n",
    "\n",
    "for idx in tqdm(range(len(train_data))):\n",
    "    maxi = np.max(train_data.iloc[idx,4:])\n",
    "    mini = np.min(train_data.iloc[idx,4:])\n",
    "\n",
    "    if maxi == mini :\n",
    "        train_data.iloc[idx,4:] = 0\n",
    "    else:\n",
    "        train_data.iloc[idx,4:] = (train_data.iloc[idx,4:] - mini) / (maxi - mini)\n",
    "\n",
    "    scale_max_dict[idx] = maxi\n",
    "    scale_min_dict[idx] = mini"
   ]
  },
  {
   "cell_type": "code",
   "execution_count": 72,
   "id": "d84f0807-ba5e-4651-9458-e38ed3045042",
   "metadata": {},
   "outputs": [],
   "source": [
    "# Save Min-Max of Scaling\n",
    "with open('Demand_Forecasting/scale_max_dict.pkl','wb') as f:\n",
    "  pickle.dump(scale_max_dict,f)\n",
    "\n",
    "with open('Demand_Forecasting/scale_min_dict.pkl','wb') as f:\n",
    "  pickle.dump(scale_min_dict,f)"
   ]
  },
  {
   "cell_type": "code",
   "execution_count": 73,
   "id": "2f31779a-3001-43a7-94c5-c11856463f7c",
   "metadata": {},
   "outputs": [],
   "source": [
    "# Load Min-Max of Scaling\n",
    "\n",
    "with open('Demand_Forecasting/scale_max_dict.pkl','rb') as f:\n",
    "  scale_max_dict = pickle.load(f)\n",
    "\n",
    "with open('Demand_Forecasting/scale_min_dict.pkl','rb') as f:\n",
    "  scale_min_dict = pickle.load(f)"
   ]
  },
  {
   "cell_type": "code",
   "execution_count": 74,
   "id": "7d6a7edf-8c1e-4dee-bdba-e31f2960602b",
   "metadata": {},
   "outputs": [],
   "source": [
    "# Save scaling data\n",
    "train_data.to_csv('Demand_Forecasting/train_data_scaling.csv',index=False)"
   ]
  },
  {
   "cell_type": "code",
   "execution_count": 75,
   "id": "2261e9e2-4985-40fe-b32d-b3a08d2ea2d7",
   "metadata": {},
   "outputs": [],
   "source": [
    "train_data = pd.read_csv('Demand_Forecasting/train_data_scaling.csv')"
   ]
  },
  {
   "cell_type": "markdown",
   "id": "f61c0827-4fe1-411a-b852-4f5e6f07b18e",
   "metadata": {},
   "source": [
    "## 군집 분석"
   ]
  },
  {
   "cell_type": "code",
   "execution_count": 76,
   "id": "0ad9234e-9eb0-4df7-84ab-ac0390b96f2e",
   "metadata": {},
   "outputs": [],
   "source": [
    "train_data_cls = train_data.copy()\n",
    "train_data_cls = train_data_cls.drop('TRRSRT_NM',axis=1)"
   ]
  },
  {
   "cell_type": "code",
   "execution_count": 77,
   "id": "4cfa7d93-c604-4b56-bb52-8de4a3a79a11",
   "metadata": {
    "scrolled": true
   },
   "outputs": [
    {
     "data": {
      "text/html": [
       "<style>#sk-container-id-2 {color: black;}#sk-container-id-2 pre{padding: 0;}#sk-container-id-2 div.sk-toggleable {background-color: white;}#sk-container-id-2 label.sk-toggleable__label {cursor: pointer;display: block;width: 100%;margin-bottom: 0;padding: 0.3em;box-sizing: border-box;text-align: center;}#sk-container-id-2 label.sk-toggleable__label-arrow:before {content: \"▸\";float: left;margin-right: 0.25em;color: #696969;}#sk-container-id-2 label.sk-toggleable__label-arrow:hover:before {color: black;}#sk-container-id-2 div.sk-estimator:hover label.sk-toggleable__label-arrow:before {color: black;}#sk-container-id-2 div.sk-toggleable__content {max-height: 0;max-width: 0;overflow: hidden;text-align: left;background-color: #f0f8ff;}#sk-container-id-2 div.sk-toggleable__content pre {margin: 0.2em;color: black;border-radius: 0.25em;background-color: #f0f8ff;}#sk-container-id-2 input.sk-toggleable__control:checked~div.sk-toggleable__content {max-height: 200px;max-width: 100%;overflow: auto;}#sk-container-id-2 input.sk-toggleable__control:checked~label.sk-toggleable__label-arrow:before {content: \"▾\";}#sk-container-id-2 div.sk-estimator input.sk-toggleable__control:checked~label.sk-toggleable__label {background-color: #d4ebff;}#sk-container-id-2 div.sk-label input.sk-toggleable__control:checked~label.sk-toggleable__label {background-color: #d4ebff;}#sk-container-id-2 input.sk-hidden--visually {border: 0;clip: rect(1px 1px 1px 1px);clip: rect(1px, 1px, 1px, 1px);height: 1px;margin: -1px;overflow: hidden;padding: 0;position: absolute;width: 1px;}#sk-container-id-2 div.sk-estimator {font-family: monospace;background-color: #f0f8ff;border: 1px dotted black;border-radius: 0.25em;box-sizing: border-box;margin-bottom: 0.5em;}#sk-container-id-2 div.sk-estimator:hover {background-color: #d4ebff;}#sk-container-id-2 div.sk-parallel-item::after {content: \"\";width: 100%;border-bottom: 1px solid gray;flex-grow: 1;}#sk-container-id-2 div.sk-label:hover label.sk-toggleable__label {background-color: #d4ebff;}#sk-container-id-2 div.sk-serial::before {content: \"\";position: absolute;border-left: 1px solid gray;box-sizing: border-box;top: 0;bottom: 0;left: 50%;z-index: 0;}#sk-container-id-2 div.sk-serial {display: flex;flex-direction: column;align-items: center;background-color: white;padding-right: 0.2em;padding-left: 0.2em;position: relative;}#sk-container-id-2 div.sk-item {position: relative;z-index: 1;}#sk-container-id-2 div.sk-parallel {display: flex;align-items: stretch;justify-content: center;background-color: white;position: relative;}#sk-container-id-2 div.sk-item::before, #sk-container-id-2 div.sk-parallel-item::before {content: \"\";position: absolute;border-left: 1px solid gray;box-sizing: border-box;top: 0;bottom: 0;left: 50%;z-index: -1;}#sk-container-id-2 div.sk-parallel-item {display: flex;flex-direction: column;z-index: 1;position: relative;background-color: white;}#sk-container-id-2 div.sk-parallel-item:first-child::after {align-self: flex-end;width: 50%;}#sk-container-id-2 div.sk-parallel-item:last-child::after {align-self: flex-start;width: 50%;}#sk-container-id-2 div.sk-parallel-item:only-child::after {width: 0;}#sk-container-id-2 div.sk-dashed-wrapped {border: 1px dashed gray;margin: 0 0.4em 0.5em 0.4em;box-sizing: border-box;padding-bottom: 0.4em;background-color: white;}#sk-container-id-2 div.sk-label label {font-family: monospace;font-weight: bold;display: inline-block;line-height: 1.2em;}#sk-container-id-2 div.sk-label-container {text-align: center;}#sk-container-id-2 div.sk-container {/* jupyter's `normalize.less` sets `[hidden] { display: none; }` but bootstrap.min.css set `[hidden] { display: none !important; }` so we also need the `!important` here to be able to override the default hidden behavior on the sphinx rendered scikit-learn.org. See: https://github.com/scikit-learn/scikit-learn/issues/21755 */display: inline-block !important;position: relative;}#sk-container-id-2 div.sk-text-repr-fallback {display: none;}</style><div id=\"sk-container-id-2\" class=\"sk-top-container\"><div class=\"sk-text-repr-fallback\"><pre>KElbowVisualizer(ax=&lt;Axes: &gt;,\n",
       "                 estimator=KMeans(n_clusters=14, n_init=250, random_state=7),\n",
       "                 k=(3, 15))</pre><b>In a Jupyter environment, please rerun this cell to show the HTML representation or trust the notebook. <br />On GitHub, the HTML representation is unable to render, please try loading this page with nbviewer.org.</b></div><div class=\"sk-container\" hidden><div class=\"sk-item sk-dashed-wrapped\"><div class=\"sk-label-container\"><div class=\"sk-label sk-toggleable\"><input class=\"sk-toggleable__control sk-hidden--visually\" id=\"sk-estimator-id-2\" type=\"checkbox\" ><label for=\"sk-estimator-id-2\" class=\"sk-toggleable__label sk-toggleable__label-arrow\">KElbowVisualizer</label><div class=\"sk-toggleable__content\"><pre>KElbowVisualizer(ax=&lt;Axes: &gt;,\n",
       "                 estimator=KMeans(n_clusters=14, n_init=250, random_state=7),\n",
       "                 k=(3, 15))</pre></div></div></div><div class=\"sk-parallel\"><div class=\"sk-parallel-item\"><div class=\"sk-item\"><div class=\"sk-label-container\"><div class=\"sk-label sk-toggleable\"><input class=\"sk-toggleable__control sk-hidden--visually\" id=\"sk-estimator-id-3\" type=\"checkbox\" ><label for=\"sk-estimator-id-3\" class=\"sk-toggleable__label sk-toggleable__label-arrow\">estimator: KMeans</label><div class=\"sk-toggleable__content\"><pre>KMeans(n_clusters=14, n_init=250, random_state=7)</pre></div></div></div><div class=\"sk-serial\"><div class=\"sk-item\"><div class=\"sk-estimator sk-toggleable\"><input class=\"sk-toggleable__control sk-hidden--visually\" id=\"sk-estimator-id-4\" type=\"checkbox\" ><label for=\"sk-estimator-id-4\" class=\"sk-toggleable__label sk-toggleable__label-arrow\">KMeans</label><div class=\"sk-toggleable__content\"><pre>KMeans(n_clusters=14, n_init=250, random_state=7)</pre></div></div></div></div></div></div></div></div></div></div>"
      ],
      "text/plain": [
       "KElbowVisualizer(ax=<Axes: >,\n",
       "                 estimator=KMeans(n_clusters=14, n_init=250, random_state=7),\n",
       "                 k=(3, 15))"
      ]
     },
     "execution_count": 77,
     "metadata": {},
     "output_type": "execute_result"
    },
    {
     "data": {
      "image/png": "[encoded data removed]",
      "text/plain": [
       "<Figure size 800x550 with 2 Axes>"
      ]
     },
     "metadata": {},
     "output_type": "display_data"
    }
   ],
   "source": [
    "n_init = 250\n",
    "model = KMeans(n_init=n_init, random_state=CFG['SEED'])\n",
    "visualizer = KElbowVisualizer(model, k=(3,15))\n",
    "visualizer.fit(train_data_cls)"
   ]
  },
  {
   "cell_type": "code",
   "execution_count": 78,
   "id": "1793a8b3-2036-47da-81ba-f25a309ae0c6",
   "metadata": {},
   "outputs": [
    {
     "data": {
      "text/html": [
       "<style>#sk-container-id-3 {color: black;}#sk-container-id-3 pre{padding: 0;}#sk-container-id-3 div.sk-toggleable {background-color: white;}#sk-container-id-3 label.sk-toggleable__label {cursor: pointer;display: block;width: 100%;margin-bottom: 0;padding: 0.3em;box-sizing: border-box;text-align: center;}#sk-container-id-3 label.sk-toggleable__label-arrow:before {content: \"▸\";float: left;margin-right: 0.25em;color: #696969;}#sk-container-id-3 label.sk-toggleable__label-arrow:hover:before {color: black;}#sk-container-id-3 div.sk-estimator:hover label.sk-toggleable__label-arrow:before {color: black;}#sk-container-id-3 div.sk-toggleable__content {max-height: 0;max-width: 0;overflow: hidden;text-align: left;background-color: #f0f8ff;}#sk-container-id-3 div.sk-toggleable__content pre {margin: 0.2em;color: black;border-radius: 0.25em;background-color: #f0f8ff;}#sk-container-id-3 input.sk-toggleable__control:checked~div.sk-toggleable__content {max-height: 200px;max-width: 100%;overflow: auto;}#sk-container-id-3 input.sk-toggleable__control:checked~label.sk-toggleable__label-arrow:before {content: \"▾\";}#sk-container-id-3 div.sk-estimator input.sk-toggleable__control:checked~label.sk-toggleable__label {background-color: #d4ebff;}#sk-container-id-3 div.sk-label input.sk-toggleable__control:checked~label.sk-toggleable__label {background-color: #d4ebff;}#sk-container-id-3 input.sk-hidden--visually {border: 0;clip: rect(1px 1px 1px 1px);clip: rect(1px, 1px, 1px, 1px);height: 1px;margin: -1px;overflow: hidden;padding: 0;position: absolute;width: 1px;}#sk-container-id-3 div.sk-estimator {font-family: monospace;background-color: #f0f8ff;border: 1px dotted black;border-radius: 0.25em;box-sizing: border-box;margin-bottom: 0.5em;}#sk-container-id-3 div.sk-estimator:hover {background-color: #d4ebff;}#sk-container-id-3 div.sk-parallel-item::after {content: \"\";width: 100%;border-bottom: 1px solid gray;flex-grow: 1;}#sk-container-id-3 div.sk-label:hover label.sk-toggleable__label {background-color: #d4ebff;}#sk-container-id-3 div.sk-serial::before {content: \"\";position: absolute;border-left: 1px solid gray;box-sizing: border-box;top: 0;bottom: 0;left: 50%;z-index: 0;}#sk-container-id-3 div.sk-serial {display: flex;flex-direction: column;align-items: center;background-color: white;padding-right: 0.2em;padding-left: 0.2em;position: relative;}#sk-container-id-3 div.sk-item {position: relative;z-index: 1;}#sk-container-id-3 div.sk-parallel {display: flex;align-items: stretch;justify-content: center;background-color: white;position: relative;}#sk-container-id-3 div.sk-item::before, #sk-container-id-3 div.sk-parallel-item::before {content: \"\";position: absolute;border-left: 1px solid gray;box-sizing: border-box;top: 0;bottom: 0;left: 50%;z-index: -1;}#sk-container-id-3 div.sk-parallel-item {display: flex;flex-direction: column;z-index: 1;position: relative;background-color: white;}#sk-container-id-3 div.sk-parallel-item:first-child::after {align-self: flex-end;width: 50%;}#sk-container-id-3 div.sk-parallel-item:last-child::after {align-self: flex-start;width: 50%;}#sk-container-id-3 div.sk-parallel-item:only-child::after {width: 0;}#sk-container-id-3 div.sk-dashed-wrapped {border: 1px dashed gray;margin: 0 0.4em 0.5em 0.4em;box-sizing: border-box;padding-bottom: 0.4em;background-color: white;}#sk-container-id-3 div.sk-label label {font-family: monospace;font-weight: bold;display: inline-block;line-height: 1.2em;}#sk-container-id-3 div.sk-label-container {text-align: center;}#sk-container-id-3 div.sk-container {/* jupyter's `normalize.less` sets `[hidden] { display: none; }` but bootstrap.min.css set `[hidden] { display: none !important; }` so we also need the `!important` here to be able to override the default hidden behavior on the sphinx rendered scikit-learn.org. See: https://github.com/scikit-learn/scikit-learn/issues/21755 */display: inline-block !important;position: relative;}#sk-container-id-3 div.sk-text-repr-fallback {display: none;}</style><div id=\"sk-container-id-3\" class=\"sk-top-container\"><div class=\"sk-text-repr-fallback\"><pre>KMeans(n_clusters=6, n_init=250, random_state=10)</pre><b>In a Jupyter environment, please rerun this cell to show the HTML representation or trust the notebook. <br />On GitHub, the HTML representation is unable to render, please try loading this page with nbviewer.org.</b></div><div class=\"sk-container\" hidden><div class=\"sk-item\"><div class=\"sk-estimator sk-toggleable\"><input class=\"sk-toggleable__control sk-hidden--visually\" id=\"sk-estimator-id-5\" type=\"checkbox\" checked><label for=\"sk-estimator-id-5\" class=\"sk-toggleable__label sk-toggleable__label-arrow\">KMeans</label><div class=\"sk-toggleable__content\"><pre>KMeans(n_clusters=6, n_init=250, random_state=10)</pre></div></div></div></div></div>"
      ],
      "text/plain": [
       "KMeans(n_clusters=6, n_init=250, random_state=10)"
      ]
     },
     "execution_count": 78,
     "metadata": {},
     "output_type": "execute_result"
    }
   ],
   "source": [
    "k = 6\n",
    "\n",
    "# 그룹 수, random_state 설정\n",
    "model = KMeans(n_init=250, n_clusters = k, random_state = 10)\n",
    "\n",
    "# 정규화된 데이터에 학습\n",
    "model.fit(train_data_cls)"
   ]
  },
  {
   "cell_type": "code",
   "execution_count": 79,
   "id": "21cfde22-962f-4ee2-9d61-0a55966d56cb",
   "metadata": {},
   "outputs": [],
   "source": [
    "# 클러스터링 결과 각 데이터가 몇 번째 그룹에 속하는지 저장\n",
    "cluster = model.predict(train_data_cls)"
   ]
  },
  {
   "cell_type": "code",
   "execution_count": 80,
   "id": "b51ef1ef-3265-4c78-a173-aa82a253f3cd",
   "metadata": {},
   "outputs": [
    {
     "data": {
      "text/plain": [
       "0.4144484624397666"
      ]
     },
     "execution_count": 80,
     "metadata": {},
     "output_type": "execute_result"
    }
   ],
   "source": [
    "# 군집화 점수 0.5가 넘으면 충분\n",
    "silhouette_score(train_data_cls, cluster, metric='euclidean')"
   ]
  },
  {
   "cell_type": "code",
   "execution_count": 81,
   "id": "fcc46541-0c64-45af-85e5-5a2069f54861",
   "metadata": {},
   "outputs": [],
   "source": [
    "train_data.insert(0,'CLUSTER',cluster)"
   ]
  },
  {
   "cell_type": "code",
   "execution_count": 82,
   "id": "24b0b56c-c547-49a1-bc8b-313dc70d6233",
   "metadata": {},
   "outputs": [],
   "source": [
    "train_data.to_csv('Demand_Forecasting/train_data_scaling.csv',index=False)"
   ]
  },
  {
   "cell_type": "markdown",
   "id": "7c2e9874-3860-4c38-8bb9-53193c7de157",
   "metadata": {},
   "source": [
    "# Modeling"
   ]
  },
  {
   "cell_type": "markdown",
   "id": "ecae4b43-29d7-4f90-8f1b-c96fdb307082",
   "metadata": {},
   "source": [
    "## Making Dataset"
   ]
  },
  {
   "cell_type": "code",
   "execution_count": 4,
   "id": "34f3d735-05b6-4c6e-b11b-515e3a7359a4",
   "metadata": {},
   "outputs": [],
   "source": [
    "train_data = pd.read_csv('Demand_Forecasting/train_data_scaling.csv')\n",
    "test_data = pd.read_csv('Demand_Forecasting/test_data.csv')\n",
    "with open('Demand_Forecasting/scale_max_dict.pkl','rb') as f:\n",
    "  scale_max_dict = pickle.load(f)\n",
    "\n",
    "with open('Demand_Forecasting/scale_min_dict.pkl','rb') as f:\n",
    "  scale_min_dict = pickle.load(f)\n",
    "\n",
    "residual_data = pd.read_csv('Demand_Forecasting/residual_data.csv').values"
   ]
  },
  {
   "cell_type": "code",
   "execution_count": 5,
   "id": "87c1945f-042e-44be-adeb-212b93c23224",
   "metadata": {},
   "outputs": [],
   "source": [
    "# 관광지명 제거\n",
    "train_data = train_data.drop('TRRSRT_NM',axis=1)"
   ]
  },
  {
   "cell_type": "code",
   "execution_count": 6,
   "id": "a9a8f457-7fbb-4b20-aa1b-9d534ec408b8",
   "metadata": {},
   "outputs": [],
   "source": [
    "class CustomDataset(Dataset):\n",
    "    def __init__(self, data, residual, encode_cnt, train_size=CFG['TRAIN_WINDOW_SIZE'], predict_size=CFG['PREDICT_SIZE'], is_inference=False):\n",
    "        self.data = data.values # convert DataFrame to numpy array\n",
    "        self.residual = residual\n",
    "        self.encode_cnt = encode_cnt\n",
    "        self.train_size = train_size\n",
    "        self.predict_size = predict_size\n",
    "        self.window_size = self.train_size + self.predict_size\n",
    "        self.is_inference = is_inference\n",
    "\n",
    "    def __len__(self):\n",
    "        if self.is_inference:\n",
    "            return len(self.data)\n",
    "        else:\n",
    "            return self.data.shape[0] * (self.data.shape[1] - self.window_size - (self.encode_cnt-1)) # encode 개수 - 1\n",
    "\n",
    "    def __getitem__(self, idx): # class의 index에 접근할 때 자동으로 호출되는 메소드\n",
    "        if self.is_inference:\n",
    "            # 추론 시\n",
    "            encode_info = self.data[idx, :self.encode_cnt]\n",
    "            window = self.data[idx, -self.train_size:]            \n",
    "            residual_window = self.residual[idx, -self.train_size:]\n",
    "            input_data = np.column_stack((np.tile(encode_info, (self.train_size, 1)), window, residual_window))\n",
    "            return input_data\n",
    "        else:\n",
    "            # 학습 시\n",
    "            row = idx // (self.data.shape[1] - self.window_size - (self.encode_cnt-1)) # encode 개수 - 1\n",
    "            col = idx % (self.data.shape[1] - self.window_size - (self.encode_cnt-1)) #encode 개수 - 1\n",
    "            encode_info = self.data[row, :self.encode_cnt]\n",
    "            enter_data = self.data[row, self.encode_cnt:]\n",
    "            residual_data = self.residual[row, :]\n",
    "            window = enter_data[col : col + self.window_size]\n",
    "            residual_window = residual_data[col : col + self.window_size]\n",
    "            input_data = np.column_stack((np.tile(encode_info, (self.train_size, 1)), window[:self.train_size], residual_window[:self.train_size]))\n",
    "            target_data = window[self.train_size:]\n",
    "            return input_data, target_data"
   ]
  },
  {
   "cell_type": "code",
   "execution_count": 7,
   "id": "637071eb-7a3f-4789-982d-a6ebc1e8a47b",
   "metadata": {},
   "outputs": [],
   "source": [
    "# CustomDataset 인스턴스 생성\n",
    "dataset = CustomDataset(train_data, residual_data, 4)\n",
    "\n",
    "# 전체 데이터셋의 크기\n",
    "total_size = len(dataset)\n",
    "\n",
    "# 분리할 데이터셋의 크기 계산\n",
    "train_size = int(total_size * 0.8)\n",
    "val_size = total_size - train_size\n",
    "\n",
    "# random_split 함수를 사용해 데이터셋 분리\n",
    "train_dataset, val_dataset = random_split(dataset, [train_size, val_size])\n",
    "\n",
    "# DataLoader 인스턴스 생성\n",
    "train_loader = DataLoader(train_dataset, batch_size=CFG['BATCH_SIZE'], shuffle=True)\n",
    "val_loader = DataLoader(val_dataset, batch_size=CFG['BATCH_SIZE'], shuffle=False)"
   ]
  },
  {
   "cell_type": "code",
   "execution_count": 8,
   "id": "a6313bb7-25e5-4465-bd01-172689bf9f55",
   "metadata": {},
   "outputs": [],
   "source": [
    "class BaseModel(nn.Module): # 단위가격 feature 생성 >> input_size = dataset[0][0].shape[1]\n",
    "    def __init__(self, input_size=dataset[0][0].shape[1], num_layers=1, hidden_size=128, output_size=CFG['PREDICT_SIZE'], bidirectional = True):\n",
    "        super(BaseModel, self).__init__()\n",
    "        self.hidden_size = hidden_size\n",
    "        self.num_layers = num_layers\n",
    "        self.lstm = nn.LSTM(input_size, hidden_size, num_layers=num_layers, batch_first=True, bidirectional = bidirectional)\n",
    "        self.fc = nn.Sequential(\n",
    "            nn.Linear(hidden_size * 2, hidden_size//2),\n",
    "            nn.ReLU(),\n",
    "            nn.Dropout(),\n",
    "            nn.Linear(hidden_size//2, output_size)\n",
    "        )\n",
    "\n",
    "        self.actv = nn.ReLU()\n",
    "\n",
    "    def forward(self, x):\n",
    "        # x shape: (B, TRAIN_WINDOW_SIZE, 5)\n",
    "        batch_size = x.size(0)\n",
    "        hidden = self.init_hidden(batch_size, x.device)\n",
    "\n",
    "        # LSTM layer\n",
    "        lstm_out, hidden = self.lstm(x, hidden)\n",
    "\n",
    "        # Only use the last output sequence\n",
    "        last_output = lstm_out[:, -1, :]\n",
    "\n",
    "        # Fully connected layer\n",
    "        output = self.actv(self.fc(last_output))\n",
    "\n",
    "        return output.squeeze(1)\n",
    "\n",
    "    def init_hidden(self, batch_size, device):\n",
    "        # Initialize hidden state and cell state\n",
    "        return (torch.zeros(self.num_layers * 2, batch_size, self.hidden_size, device=device),\n",
    "                torch.zeros(self.num_layers * 2, batch_size, self.hidden_size, device=device))"
   ]
  },
  {
   "cell_type": "code",
   "execution_count": 9,
   "id": "9ff26324-70bc-44a9-8931-74f894443605",
   "metadata": {},
   "outputs": [],
   "source": [
    "class EarlyStopping(object):\n",
    "    def __init__(self, patience=2, save_path=\"model.pth\"):\n",
    "        self._min_loss = np.inf\n",
    "        self._patience = patience\n",
    "        self._path = save_path\n",
    "        self.__counter = 0\n",
    "\n",
    "    def should_stop(self, model, loss):\n",
    "        if loss < self._min_loss:\n",
    "            self._min_loss = loss\n",
    "            self.__counter = 0\n",
    "            torch.save(model.state_dict(), self._path)\n",
    "        elif loss > self._min_loss:\n",
    "            self.__counter += 1\n",
    "            if self.__counter >= self._patience:\n",
    "                return True\n",
    "        return False\n",
    "\n",
    "    def load(self, model):\n",
    "        model.load_state_dict(torch.load(self._path))\n",
    "        return model\n",
    "\n",
    "    @property\n",
    "    def counter(self):\n",
    "        return self.__counter"
   ]
  },
  {
   "cell_type": "code",
   "execution_count": 10,
   "id": "21c9126c-6b7b-4d59-a567-940ae92e29f7",
   "metadata": {},
   "outputs": [],
   "source": [
    "def train(model, optimizer, train_loader, val_loader, device):\n",
    "    model.to(device)\n",
    "    criterion = nn.MSELoss().to(device)\n",
    "    best_loss = 9999999\n",
    "    best_model = None\n",
    "    early_stopper = EarlyStopping(patience=3)\n",
    "\n",
    "    for epoch in range(1, CFG['EPOCHS']+1):\n",
    "        model.train()\n",
    "        train_loss = []\n",
    "        train_mae = []\n",
    "        for X, Y in tqdm(iter(train_loader)):\n",
    "            X = X.float().to(device)\n",
    "            Y = Y.float().to(device)\n",
    "\n",
    "            optimizer.zero_grad()\n",
    "\n",
    "            output = model(X)\n",
    "            loss = criterion(output, Y)\n",
    "\n",
    "            loss.backward()\n",
    "            optimizer.step()\n",
    "\n",
    "            train_loss.append(loss.item())\n",
    "\n",
    "        val_loss = validation(model, val_loader, criterion, device)\n",
    "        print(f'Epoch : [{epoch}] Train Loss : [{np.mean(train_loss):.5f}] Val Loss : [{val_loss:.5f}]')\n",
    "\n",
    "        if early_stopper.should_stop(model, val_loss):\n",
    "            print(f\"EarlyStopping: [Epoch: {epoch - early_stopper.counter}]\")\n",
    "            break\n",
    "\n",
    "        if best_loss > val_loss:\n",
    "            best_loss = val_loss\n",
    "            best_model = model\n",
    "            print('Model Saved')\n",
    "    return best_model"
   ]
  },
  {
   "cell_type": "code",
   "execution_count": 11,
   "id": "f7f039ef-8b08-42ea-91cd-30c591eac712",
   "metadata": {},
   "outputs": [],
   "source": [
    "def validation(model, val_loader, criterion, device):\n",
    "    model.eval()\n",
    "    val_loss = []\n",
    "\n",
    "    with torch.no_grad():\n",
    "        for X, Y in tqdm(iter(val_loader)):\n",
    "            X = X.float().to(device)\n",
    "            Y = Y.float().to(device)\n",
    "\n",
    "            output = model(X)\n",
    "            loss = criterion(output, Y)\n",
    "\n",
    "            val_loss.append(loss.item())\n",
    "    return np.mean(val_loss)"
   ]
  },
  {
   "cell_type": "code",
   "execution_count": 12,
   "id": "a3fc01e3-cc2c-4af6-97bb-bce6f8724075",
   "metadata": {
    "scrolled": true
   },
   "outputs": [
    {
     "data": {
      "application/vnd.jupyter.widget-view+json": {
       "model_id": "e7cc89012af643dc9d6937878abe69b3",
       "version_major": 2,
       "version_minor": 0
      },
      "text/plain": [
       "  0%|          | 0/972 [00:00<?, ?it/s]"
      ]
     },
     "metadata": {},
     "output_type": "display_data"
    },
    {
     "data": {
      "application/vnd.jupyter.widget-view+json": {
       "model_id": "a385e537cbc7430a923cc4bf0b2712f6",
       "version_major": 2,
       "version_minor": 0
      },
      "text/plain": [
       "  0%|          | 0/243 [00:00<?, ?it/s]"
      ]
     },
     "metadata": {},
     "output_type": "display_data"
    },
    {
     "name": "stdout",
     "output_type": "stream",
     "text": [
      "Epoch : [1] Train Loss : [0.02581] Val Loss : [0.01640]\n",
      "Model Saved\n"
     ]
    },
    {
     "data": {
      "application/vnd.jupyter.widget-view+json": {
       "model_id": "f594e28e104941ea89c2a6ad1f7064a0",
       "version_major": 2,
       "version_minor": 0
      },
      "text/plain": [
       "  0%|          | 0/972 [00:00<?, ?it/s]"
      ]
     },
     "metadata": {},
     "output_type": "display_data"
    },
    {
     "data": {
      "application/vnd.jupyter.widget-view+json": {
       "model_id": "a1caf6830aa14d018ab9a2de838d32b6",
       "version_major": 2,
       "version_minor": 0
      },
      "text/plain": [
       "  0%|          | 0/243 [00:00<?, ?it/s]"
      ]
     },
     "metadata": {},
     "output_type": "display_data"
    },
    {
     "name": "stdout",
     "output_type": "stream",
     "text": [
      "Epoch : [2] Train Loss : [0.01825] Val Loss : [0.01568]\n",
      "Model Saved\n"
     ]
    }
   ],
   "source": [
    "model = BaseModel()\n",
    "optimizer = torch.optim.Adam(params = model.parameters(), lr = CFG[\"LEARNING_RATE\"])\n",
    "infer_model = train(model, optimizer, train_loader, val_loader, device)"
   ]
  },
  {
   "cell_type": "code",
   "execution_count": 27,
   "id": "a2c4657e-21ad-46a4-9d04-88676182919f",
   "metadata": {},
   "outputs": [],
   "source": [
    "PATH = 'Demand_Forecasting/'\n",
    "\n",
    "torch.save(infer_model, PATH + 'model.pt')  # 전체 모델 저장\n",
    "torch.save(infer_model.state_dict(), PATH + 'model_state_dict.pt')  # 모델 객체의 state_dict 저장\n",
    "torch.save({\n",
    "    'model': infer_model.state_dict(),\n",
    "    'optimizer': optimizer.state_dict()\n",
    "}, PATH + 'all.tar')  # 여러 가지 값 저장, 학습 중 진행 상황 저장을 위해 epoch, loss 값 등 일반 scalar값 저장 가능"
   ]
  },
  {
   "cell_type": "code",
   "execution_count": 28,
   "id": "e9f2529d-c9af-4e88-8760-5702a0db9344",
   "metadata": {},
   "outputs": [],
   "source": [
    "test_dataset = CustomDataset(train_data, residual_data, 4, is_inference=True)\n",
    "test_loader = DataLoader(test_dataset, batch_size=CFG['BATCH_SIZE'], shuffle=False)"
   ]
  },
  {
   "cell_type": "code",
   "execution_count": 29,
   "id": "61d3c659-e56c-4cab-aa02-0a9fcd41b132",
   "metadata": {},
   "outputs": [],
   "source": [
    "def inference(model, test_loader, device):\n",
    "    predictions = []\n",
    "\n",
    "    with torch.no_grad():\n",
    "        for X in tqdm(iter(test_loader)):\n",
    "            X = X.float().to(device)\n",
    "\n",
    "            output = model(X)\n",
    "\n",
    "            # 모델 출력인 output을 CPU로 이동하고 numpy 배열로 변환\n",
    "            output = output.cpu().numpy()\n",
    "\n",
    "            predictions.extend(output)\n",
    "\n",
    "    return np.array(predictions)"
   ]
  },
  {
   "cell_type": "code",
   "execution_count": 30,
   "id": "190ff9e8-95cd-46d7-9177-d4c6a4fb75d2",
   "metadata": {},
   "outputs": [
    {
     "data": {
      "application/vnd.jupyter.widget-view+json": {
       "model_id": "7237bb6f3f124d909f128a5b1c79a174",
       "version_major": 2,
       "version_minor": 0
      },
      "text/plain": [
       "  0%|          | 0/6 [00:00<?, ?it/s]"
      ]
     },
     "metadata": {},
     "output_type": "display_data"
    }
   ],
   "source": [
    "pred = inference(infer_model, test_loader, device)"
   ]
  },
  {
   "cell_type": "code",
   "execution_count": 31,
   "id": "1290aa14-82f3-47fa-b1e9-25e63c1c8ae8",
   "metadata": {},
   "outputs": [],
   "source": [
    "# 추론 결과를 inverse scaling\n",
    "for idx in range(len(pred)):\n",
    "    pred[idx, :] = pred[idx, :] * (scale_max_dict[idx] - scale_min_dict[idx]) + scale_min_dict[idx]\n",
    "\n",
    "# 결과 후처리\n",
    "pred = np.round(pred, 0).astype(int)"
   ]
  },
  {
   "cell_type": "code",
   "execution_count": 34,
   "id": "eb365613-6bbe-4c7a-b33b-35952f4f508b",
   "metadata": {},
   "outputs": [],
   "source": [
    "pred_data = pd.concat([test_data.iloc[:,:3],pd.DataFrame(pred)],axis=1)"
   ]
  },
  {
   "cell_type": "code",
   "execution_count": 35,
   "id": "4cb78784-fa6c-4e82-8e57-06e479fc6fd8",
   "metadata": {},
   "outputs": [],
   "source": [
    "pred_data.columns = test_data.columns"
   ]
  },
  {
   "cell_type": "code",
   "execution_count": 36,
   "id": "37be7f07-60e8-49c9-94ff-6e339ab0300a",
   "metadata": {
    "scrolled": true
   },
   "outputs": [],
   "source": [
    "pred_data.to_csv('Demand_Forecasting/predict_0923AM1100.csv',index=False)"
   ]
  },
  {
   "cell_type": "code",
   "execution_count": 37,
   "id": "101d6d37-60ca-46ab-a4a4-4eef67935907",
   "metadata": {},
   "outputs": [],
   "source": [
    "# 데이터 확인할 row 설정\n",
    "check_name = '성산일출봉'\n",
    "row_check = pred_data[pred_data['TRRSRT_NM']==check_name].index\n",
    "pred_check = pred_data.iloc[row_check,3:]\n",
    "test_check = test_data.iloc[row_check,3:]"
   ]
  },
  {
   "cell_type": "code",
   "execution_count": 38,
   "id": "bce9af52-debf-4aad-bb44-64d64529f79f",
   "metadata": {},
   "outputs": [
    {
     "name": "stdout",
     "output_type": "stream",
     "text": [
      "1282425.6333333333\n",
      "815.0333333333333\n",
      "0.48914117910349636\n"
     ]
    }
   ],
   "source": [
    "print(mean_squared_error(test_check, pred_check))\n",
    "print(mean_absolute_error(test_check, pred_check))\n",
    "print(mean_absolute_percentage_error(test_check, pred_check))"
   ]
  },
  {
   "cell_type": "code",
   "execution_count": 39,
   "id": "8c045f52-0a77-49ed-83e5-65b5bca9346e",
   "metadata": {
    "scrolled": true
   },
   "outputs": [
    {
     "data": {
      "text/html": [
       "<div>\n",
       "<style scoped>\n",
       "    .dataframe tbody tr th:only-of-type {\n",
       "        vertical-align: middle;\n",
       "    }\n",
       "\n",
       "    .dataframe tbody tr th {\n",
       "        vertical-align: top;\n",
       "    }\n",
       "\n",
       "    .dataframe thead th {\n",
       "        text-align: right;\n",
       "    }\n",
       "</style>\n",
       "<table border=\"1\" class=\"dataframe\">\n",
       "  <thead>\n",
       "    <tr style=\"text-align: right;\">\n",
       "      <th></th>\n",
       "      <th>20221202</th>\n",
       "      <th>20221203</th>\n",
       "      <th>20221204</th>\n",
       "      <th>20221205</th>\n",
       "      <th>20221206</th>\n",
       "      <th>20221207</th>\n",
       "      <th>20221208</th>\n",
       "      <th>20221209</th>\n",
       "      <th>20221210</th>\n",
       "      <th>20221211</th>\n",
       "      <th>...</th>\n",
       "      <th>20221222</th>\n",
       "      <th>20221223</th>\n",
       "      <th>20221224</th>\n",
       "      <th>20221225</th>\n",
       "      <th>20221226</th>\n",
       "      <th>20221227</th>\n",
       "      <th>20221228</th>\n",
       "      <th>20221229</th>\n",
       "      <th>20221230</th>\n",
       "      <th>20221231</th>\n",
       "    </tr>\n",
       "  </thead>\n",
       "  <tbody>\n",
       "    <tr>\n",
       "      <th>172</th>\n",
       "      <td>2108.0</td>\n",
       "      <td>1462.0</td>\n",
       "      <td>2113.0</td>\n",
       "      <td>2415.0</td>\n",
       "      <td>1949.0</td>\n",
       "      <td>1893.0</td>\n",
       "      <td>1899.0</td>\n",
       "      <td>2171.0</td>\n",
       "      <td>2471.0</td>\n",
       "      <td>2241.0</td>\n",
       "      <td>...</td>\n",
       "      <td>485.0</td>\n",
       "      <td>2415.0</td>\n",
       "      <td>309.0</td>\n",
       "      <td>1987.0</td>\n",
       "      <td>2392.0</td>\n",
       "      <td>2724.0</td>\n",
       "      <td>2582.0</td>\n",
       "      <td>2639.0</td>\n",
       "      <td>4623.0</td>\n",
       "      <td>5356.0</td>\n",
       "    </tr>\n",
       "    <tr>\n",
       "      <th>172</th>\n",
       "      <td>1609.0</td>\n",
       "      <td>1548.0</td>\n",
       "      <td>1540.0</td>\n",
       "      <td>1651.0</td>\n",
       "      <td>1630.0</td>\n",
       "      <td>1594.0</td>\n",
       "      <td>1620.0</td>\n",
       "      <td>1600.0</td>\n",
       "      <td>1590.0</td>\n",
       "      <td>1622.0</td>\n",
       "      <td>...</td>\n",
       "      <td>1586.0</td>\n",
       "      <td>1592.0</td>\n",
       "      <td>1590.0</td>\n",
       "      <td>1582.0</td>\n",
       "      <td>1636.0</td>\n",
       "      <td>1638.0</td>\n",
       "      <td>1578.0</td>\n",
       "      <td>1527.0</td>\n",
       "      <td>1586.0</td>\n",
       "      <td>1556.0</td>\n",
       "    </tr>\n",
       "  </tbody>\n",
       "</table>\n",
       "<p>2 rows × 30 columns</p>\n",
       "</div>"
      ],
      "text/plain": [
       "     20221202  20221203  20221204  20221205  20221206  20221207  20221208  \\\n",
       "172    2108.0    1462.0    2113.0    2415.0    1949.0    1893.0    1899.0   \n",
       "172    1609.0    1548.0    1540.0    1651.0    1630.0    1594.0    1620.0   \n",
       "\n",
       "     20221209  20221210  20221211  ...  20221222  20221223  20221224  \\\n",
       "172    2171.0    2471.0    2241.0  ...     485.0    2415.0     309.0   \n",
       "172    1600.0    1590.0    1622.0  ...    1586.0    1592.0    1590.0   \n",
       "\n",
       "     20221225  20221226  20221227  20221228  20221229  20221230  20221231  \n",
       "172    1987.0    2392.0    2724.0    2582.0    2639.0    4623.0    5356.0  \n",
       "172    1582.0    1636.0    1638.0    1578.0    1527.0    1586.0    1556.0  \n",
       "\n",
       "[2 rows x 30 columns]"
      ]
     },
     "execution_count": 39,
     "metadata": {},
     "output_type": "execute_result"
    }
   ],
   "source": [
    "pd.concat([test_check, pred_check],axis=0)"
   ]
  },
  {
   "cell_type": "code",
   "execution_count": null,
   "id": "39006bbe-08fb-48e1-a146-a37e722b1afa",
   "metadata": {},
   "outputs": [],
   "source": []
  }
 ],
 "metadata": {
  "kernelspec": {
   "display_name": "Python 3 (ipykernel)",
   "language": "python",
   "name": "python3"
  },
  "language_info": {
   "codemirror_mode": {
    "name": "ipython",
    "version": 3
   },
   "file_extension": ".py",
   "mimetype": "text/x-python",
   "name": "python",
   "nbconvert_exporter": "python",
   "pygments_lexer": "ipython3",
   "version": "3.11.4"
  }
 },
 "nbformat": 4,
 "nbformat_minor": 5
}
